{
 "cells": [
  {
   "cell_type": "code",
   "execution_count": 1,
   "metadata": {},
   "outputs": [],
   "source": [
    "import pandas as pd\n",
    "from scipy import stats"
   ]
  },
  {
   "cell_type": "markdown",
   "metadata": {},
   "source": [
    "# STSBenchmark"
   ]
  },
  {
   "cell_type": "markdown",
   "metadata": {},
   "source": [
    "https://ixa2.si.ehu.es/stswiki on dev"
   ]
  },
  {
   "cell_type": "code",
   "execution_count": 2,
   "metadata": {},
   "outputs": [],
   "source": [
    "col_names = ['filename', 'genre', 'year', 'id', 'score', 'sentence1', 'sentence2']\n",
    "target = pd.read_csv('data/sts-dev.csv', sep='\\t', quoting=3, header=None, names=col_names)['score']\n",
    "bm25 = pd.read_csv('data/sts_elsearch_dev.csv')['score']\n",
    "bert_sent = pd.read_csv('data/sts_bert_dev.csv')['score']\n",
    "universal = pd.read_csv('data/sts_universal_dev.csv')['score']"
   ]
  },
  {
   "cell_type": "markdown",
   "metadata": {},
   "source": [
    "#### Pearson correlation coefficient"
   ]
  },
  {
   "cell_type": "code",
   "execution_count": 3,
   "metadata": {},
   "outputs": [
    {
     "name": "stdout",
     "output_type": "stream",
     "text": [
      "BM25:  68.48\n",
      "BERT:  87.96\n",
      "USE:  83.64\n"
     ]
    }
   ],
   "source": [
    "print('BM25:', '% .2f' % (stats.pearsonr(target, bm25)[0] * 100))\n",
    "print('BERT:', '% .2f' % (stats.pearsonr(target, bert_sent)[0] * 100))\n",
    "print('USE:', '% .2f' % (stats.pearsonr(target, universal)[0] * 100))"
   ]
  },
  {
   "cell_type": "markdown",
   "metadata": {},
   "source": [
    "# Idioms"
   ]
  },
  {
   "cell_type": "markdown",
   "metadata": {},
   "source": [
    "IBM Debater - Sentiment Lexicon of IDiomatic Expressions (SLIDE) (https://www.research.ibm.com/haifa/dept/vst/ debating_data.shtml) (~4500) + definition from wiktionary.org"
   ]
  },
  {
   "cell_type": "code",
   "execution_count": 4,
   "metadata": {},
   "outputs": [],
   "source": [
    "idioms = pd.read_csv('data/idioms.csv')"
   ]
  },
  {
   "cell_type": "markdown",
   "metadata": {},
   "source": [
    "### BM25"
   ]
  },
  {
   "cell_type": "code",
   "execution_count": 5,
   "metadata": {},
   "outputs": [
    {
     "name": "stdout",
     "output_type": "stream",
     "text": [
      "Columns: ['article', 'content', 'candidate', 'definition', 'score', 'type']\n"
     ]
    },
    {
     "data": {
      "text/html": [
       "<div>\n",
       "<style scoped>\n",
       "    .dataframe tbody tr th:only-of-type {\n",
       "        vertical-align: middle;\n",
       "    }\n",
       "\n",
       "    .dataframe tbody tr th {\n",
       "        vertical-align: top;\n",
       "    }\n",
       "\n",
       "    .dataframe thead th {\n",
       "        text-align: right;\n",
       "    }\n",
       "</style>\n",
       "<table border=\"1\" class=\"dataframe\">\n",
       "  <thead>\n",
       "    <tr style=\"text-align: right;\">\n",
       "      <th></th>\n",
       "      <th>article</th>\n",
       "      <th>candidate</th>\n",
       "      <th>score</th>\n",
       "    </tr>\n",
       "  </thead>\n",
       "  <tbody>\n",
       "    <tr>\n",
       "      <th>0</th>\n",
       "      <td>Someone tried to sell a baby on eBay for $5K</td>\n",
       "      <td>here we go again</td>\n",
       "      <td>26.253231</td>\n",
       "    </tr>\n",
       "    <tr>\n",
       "      <th>5</th>\n",
       "      <td>Florist busted for stealing flowers off graves</td>\n",
       "      <td>easier said than done</td>\n",
       "      <td>20.275879</td>\n",
       "    </tr>\n",
       "    <tr>\n",
       "      <th>10</th>\n",
       "      <td>Why Nintendo’s new console tastes awful</td>\n",
       "      <td>keep one's mouth shut</td>\n",
       "      <td>29.959396</td>\n",
       "    </tr>\n",
       "    <tr>\n",
       "      <th>15</th>\n",
       "      <td>Murder plot exposed after man sent ‘kill my wi...</td>\n",
       "      <td>what you see is what you get</td>\n",
       "      <td>17.713026</td>\n",
       "    </tr>\n",
       "    <tr>\n",
       "      <th>20</th>\n",
       "      <td>Man who claims to be 146 years old wants to die</td>\n",
       "      <td>have the time of one's life</td>\n",
       "      <td>18.638319</td>\n",
       "    </tr>\n",
       "    <tr>\n",
       "      <th>25</th>\n",
       "      <td>Trump: I Have More Foreign Policy Experience T...</td>\n",
       "      <td>take matters into one's own hands</td>\n",
       "      <td>50.313915</td>\n",
       "    </tr>\n",
       "    <tr>\n",
       "      <th>30</th>\n",
       "      <td>Trump releases bromance letter from Putin</td>\n",
       "      <td>get one's money's worth</td>\n",
       "      <td>14.363069</td>\n",
       "    </tr>\n",
       "    <tr>\n",
       "      <th>35</th>\n",
       "      <td>FBI releases nearly 200 pages of Clinton email...</td>\n",
       "      <td>what do you say</td>\n",
       "      <td>27.248457</td>\n",
       "    </tr>\n",
       "    <tr>\n",
       "      <th>40</th>\n",
       "      <td>Presidential debate expected to be the most-wa...</td>\n",
       "      <td>have the time of one's life</td>\n",
       "      <td>13.970611</td>\n",
       "    </tr>\n",
       "    <tr>\n",
       "      <th>45</th>\n",
       "      <td>The Ancient Military Barracks Hidden Under Rom...</td>\n",
       "      <td>get one's money's worth</td>\n",
       "      <td>15.732018</td>\n",
       "    </tr>\n",
       "  </tbody>\n",
       "</table>\n",
       "</div>"
      ],
      "text/plain": [
       "                                              article  \\\n",
       "0        Someone tried to sell a baby on eBay for $5K   \n",
       "5      Florist busted for stealing flowers off graves   \n",
       "10            Why Nintendo’s new console tastes awful   \n",
       "15  Murder plot exposed after man sent ‘kill my wi...   \n",
       "20    Man who claims to be 146 years old wants to die   \n",
       "25  Trump: I Have More Foreign Policy Experience T...   \n",
       "30          Trump releases bromance letter from Putin   \n",
       "35  FBI releases nearly 200 pages of Clinton email...   \n",
       "40  Presidential debate expected to be the most-wa...   \n",
       "45  The Ancient Military Barracks Hidden Under Rom...   \n",
       "\n",
       "                            candidate      score  \n",
       "0                    here we go again  26.253231  \n",
       "5               easier said than done  20.275879  \n",
       "10              keep one's mouth shut  29.959396  \n",
       "15       what you see is what you get  17.713026  \n",
       "20        have the time of one's life  18.638319  \n",
       "25  take matters into one's own hands  50.313915  \n",
       "30            get one's money's worth  14.363069  \n",
       "35                    what do you say  27.248457  \n",
       "40        have the time of one's life  13.970611  \n",
       "45            get one's money's worth  15.732018  "
      ]
     },
     "execution_count": 5,
     "metadata": {},
     "output_type": "execute_result"
    }
   ],
   "source": [
    "elsearch = pd.read_csv('data/elsearch_idioms.csv')\n",
    "print('Columns:', list(elsearch.columns))\n",
    "elsearch.drop_duplicates(subset=['article'])[['article', 'candidate', 'score']]"
   ]
  },
  {
   "cell_type": "markdown",
   "metadata": {},
   "source": [
    "### BERT"
   ]
  },
  {
   "cell_type": "code",
   "execution_count": 6,
   "metadata": {},
   "outputs": [
    {
     "name": "stdout",
     "output_type": "stream",
     "text": [
      "Columns: ['article', 'content', 'candidate', 'definition', 'distance', 'type']\n"
     ]
    },
    {
     "data": {
      "text/html": [
       "<div>\n",
       "<style scoped>\n",
       "    .dataframe tbody tr th:only-of-type {\n",
       "        vertical-align: middle;\n",
       "    }\n",
       "\n",
       "    .dataframe tbody tr th {\n",
       "        vertical-align: top;\n",
       "    }\n",
       "\n",
       "    .dataframe thead th {\n",
       "        text-align: right;\n",
       "    }\n",
       "</style>\n",
       "<table border=\"1\" class=\"dataframe\">\n",
       "  <thead>\n",
       "    <tr style=\"text-align: right;\">\n",
       "      <th></th>\n",
       "      <th>article</th>\n",
       "      <th>candidate</th>\n",
       "      <th>distance</th>\n",
       "    </tr>\n",
       "  </thead>\n",
       "  <tbody>\n",
       "    <tr>\n",
       "      <th>0</th>\n",
       "      <td>Someone tried to sell a baby on eBay for $5K</td>\n",
       "      <td>give someone a hard time</td>\n",
       "      <td>0.7833</td>\n",
       "    </tr>\n",
       "    <tr>\n",
       "      <th>5</th>\n",
       "      <td>Florist busted for stealing flowers off graves</td>\n",
       "      <td>keep up with the Joneses</td>\n",
       "      <td>0.8028</td>\n",
       "    </tr>\n",
       "    <tr>\n",
       "      <th>10</th>\n",
       "      <td>Why Nintendo’s new console tastes awful</td>\n",
       "      <td>give someone a hard time</td>\n",
       "      <td>0.6761</td>\n",
       "    </tr>\n",
       "    <tr>\n",
       "      <th>15</th>\n",
       "      <td>Murder plot exposed after man sent ‘kill my wi...</td>\n",
       "      <td>keep up with the Joneses</td>\n",
       "      <td>0.6818</td>\n",
       "    </tr>\n",
       "    <tr>\n",
       "      <th>20</th>\n",
       "      <td>Man who claims to be 146 years old wants to die</td>\n",
       "      <td>put on one's dancing shoes</td>\n",
       "      <td>0.7576</td>\n",
       "    </tr>\n",
       "    <tr>\n",
       "      <th>25</th>\n",
       "      <td>Trump: I Have More Foreign Policy Experience T...</td>\n",
       "      <td>best thing since sliced bread</td>\n",
       "      <td>0.7379</td>\n",
       "    </tr>\n",
       "    <tr>\n",
       "      <th>30</th>\n",
       "      <td>Trump releases bromance letter from Putin</td>\n",
       "      <td>put on one's dancing shoes</td>\n",
       "      <td>0.6526</td>\n",
       "    </tr>\n",
       "    <tr>\n",
       "      <th>35</th>\n",
       "      <td>FBI releases nearly 200 pages of Clinton email...</td>\n",
       "      <td>and be done with it</td>\n",
       "      <td>0.6773</td>\n",
       "    </tr>\n",
       "    <tr>\n",
       "      <th>40</th>\n",
       "      <td>Presidential debate expected to be the most-wa...</td>\n",
       "      <td>have the time of one's life</td>\n",
       "      <td>0.7891</td>\n",
       "    </tr>\n",
       "    <tr>\n",
       "      <th>45</th>\n",
       "      <td>The Ancient Military Barracks Hidden Under Rom...</td>\n",
       "      <td>strike while the iron is hot</td>\n",
       "      <td>0.6791</td>\n",
       "    </tr>\n",
       "  </tbody>\n",
       "</table>\n",
       "</div>"
      ],
      "text/plain": [
       "                                              article  \\\n",
       "0        Someone tried to sell a baby on eBay for $5K   \n",
       "5      Florist busted for stealing flowers off graves   \n",
       "10            Why Nintendo’s new console tastes awful   \n",
       "15  Murder plot exposed after man sent ‘kill my wi...   \n",
       "20    Man who claims to be 146 years old wants to die   \n",
       "25  Trump: I Have More Foreign Policy Experience T...   \n",
       "30          Trump releases bromance letter from Putin   \n",
       "35  FBI releases nearly 200 pages of Clinton email...   \n",
       "40  Presidential debate expected to be the most-wa...   \n",
       "45  The Ancient Military Barracks Hidden Under Rom...   \n",
       "\n",
       "                        candidate  distance  \n",
       "0        give someone a hard time    0.7833  \n",
       "5        keep up with the Joneses    0.8028  \n",
       "10       give someone a hard time    0.6761  \n",
       "15       keep up with the Joneses    0.6818  \n",
       "20     put on one's dancing shoes    0.7576  \n",
       "25  best thing since sliced bread    0.7379  \n",
       "30     put on one's dancing shoes    0.6526  \n",
       "35            and be done with it    0.6773  \n",
       "40    have the time of one's life    0.7891  \n",
       "45   strike while the iron is hot    0.6791  "
      ]
     },
     "execution_count": 6,
     "metadata": {},
     "output_type": "execute_result"
    }
   ],
   "source": [
    "bert = pd.read_csv('data/bert_idioms.csv')\n",
    "print('Columns:', list(bert.columns))\n",
    "bert.drop_duplicates(subset=['article'])[['article', 'candidate', 'distance']]"
   ]
  },
  {
   "cell_type": "markdown",
   "metadata": {},
   "source": [
    "### USE"
   ]
  },
  {
   "cell_type": "code",
   "execution_count": 7,
   "metadata": {},
   "outputs": [
    {
     "name": "stdout",
     "output_type": "stream",
     "text": [
      "Columns: ['article', 'content', 'candidate', 'definition', 'distance', 'type']\n"
     ]
    },
    {
     "data": {
      "text/html": [
       "<div>\n",
       "<style scoped>\n",
       "    .dataframe tbody tr th:only-of-type {\n",
       "        vertical-align: middle;\n",
       "    }\n",
       "\n",
       "    .dataframe tbody tr th {\n",
       "        vertical-align: top;\n",
       "    }\n",
       "\n",
       "    .dataframe thead th {\n",
       "        text-align: right;\n",
       "    }\n",
       "</style>\n",
       "<table border=\"1\" class=\"dataframe\">\n",
       "  <thead>\n",
       "    <tr style=\"text-align: right;\">\n",
       "      <th></th>\n",
       "      <th>article</th>\n",
       "      <th>candidate</th>\n",
       "      <th>distance</th>\n",
       "    </tr>\n",
       "  </thead>\n",
       "  <tbody>\n",
       "    <tr>\n",
       "      <th>0</th>\n",
       "      <td>Someone tried to sell a baby on eBay for $5K</td>\n",
       "      <td>pot calling the kettle black</td>\n",
       "      <td>0.8575</td>\n",
       "    </tr>\n",
       "    <tr>\n",
       "      <th>5</th>\n",
       "      <td>Florist busted for stealing flowers off graves</td>\n",
       "      <td>take the law into one's own hands</td>\n",
       "      <td>0.8499</td>\n",
       "    </tr>\n",
       "    <tr>\n",
       "      <th>10</th>\n",
       "      <td>Why Nintendo’s new console tastes awful</td>\n",
       "      <td>give someone a hard time</td>\n",
       "      <td>0.9011</td>\n",
       "    </tr>\n",
       "    <tr>\n",
       "      <th>15</th>\n",
       "      <td>Murder plot exposed after man sent ‘kill my wi...</td>\n",
       "      <td>have blood on one's hands</td>\n",
       "      <td>0.8403</td>\n",
       "    </tr>\n",
       "    <tr>\n",
       "      <th>20</th>\n",
       "      <td>Man who claims to be 146 years old wants to die</td>\n",
       "      <td>take someone's word for it</td>\n",
       "      <td>0.8398</td>\n",
       "    </tr>\n",
       "    <tr>\n",
       "      <th>25</th>\n",
       "      <td>Trump: I Have More Foreign Policy Experience T...</td>\n",
       "      <td>get one's foot in the door</td>\n",
       "      <td>0.8375</td>\n",
       "    </tr>\n",
       "    <tr>\n",
       "      <th>30</th>\n",
       "      <td>Trump releases bromance letter from Putin</td>\n",
       "      <td>get on the end of</td>\n",
       "      <td>0.8284</td>\n",
       "    </tr>\n",
       "    <tr>\n",
       "      <th>35</th>\n",
       "      <td>FBI releases nearly 200 pages of Clinton email...</td>\n",
       "      <td>genie is out of the bottle</td>\n",
       "      <td>0.8478</td>\n",
       "    </tr>\n",
       "    <tr>\n",
       "      <th>40</th>\n",
       "      <td>Presidential debate expected to be the most-wa...</td>\n",
       "      <td>come out of the woodwork</td>\n",
       "      <td>0.8801</td>\n",
       "    </tr>\n",
       "    <tr>\n",
       "      <th>45</th>\n",
       "      <td>The Ancient Military Barracks Hidden Under Rom...</td>\n",
       "      <td>let the cat out of the bag</td>\n",
       "      <td>0.8702</td>\n",
       "    </tr>\n",
       "  </tbody>\n",
       "</table>\n",
       "</div>"
      ],
      "text/plain": [
       "                                              article  \\\n",
       "0        Someone tried to sell a baby on eBay for $5K   \n",
       "5      Florist busted for stealing flowers off graves   \n",
       "10            Why Nintendo’s new console tastes awful   \n",
       "15  Murder plot exposed after man sent ‘kill my wi...   \n",
       "20    Man who claims to be 146 years old wants to die   \n",
       "25  Trump: I Have More Foreign Policy Experience T...   \n",
       "30          Trump releases bromance letter from Putin   \n",
       "35  FBI releases nearly 200 pages of Clinton email...   \n",
       "40  Presidential debate expected to be the most-wa...   \n",
       "45  The Ancient Military Barracks Hidden Under Rom...   \n",
       "\n",
       "                            candidate  distance  \n",
       "0        pot calling the kettle black    0.8575  \n",
       "5   take the law into one's own hands    0.8499  \n",
       "10           give someone a hard time    0.9011  \n",
       "15          have blood on one's hands    0.8403  \n",
       "20         take someone's word for it    0.8398  \n",
       "25         get one's foot in the door    0.8375  \n",
       "30                  get on the end of    0.8284  \n",
       "35         genie is out of the bottle    0.8478  \n",
       "40           come out of the woodwork    0.8801  \n",
       "45         let the cat out of the bag    0.8702  "
      ]
     },
     "execution_count": 7,
     "metadata": {},
     "output_type": "execute_result"
    }
   ],
   "source": [
    "use = pd.read_csv('data/universal_idioms.csv')\n",
    "print('Columns:', list(use.columns))\n",
    "use.drop_duplicates(subset=['article'])[['article', 'candidate', 'distance']]"
   ]
  },
  {
   "cell_type": "code",
   "execution_count": 8,
   "metadata": {},
   "outputs": [
    {
     "data": {
      "text/plain": [
       "'Murder plot exposed after man sent ‘kill my wife’ texts to wrong\\xa0contact'"
      ]
     },
     "execution_count": 8,
     "metadata": {},
     "output_type": "execute_result"
    }
   ],
   "source": [
    "use.iloc[15]['article']"
   ]
  },
  {
   "cell_type": "markdown",
   "metadata": {},
   "source": [
    "#### Intersection"
   ]
  },
  {
   "cell_type": "code",
   "execution_count": 9,
   "metadata": {},
   "outputs": [
    {
     "name": "stdout",
     "output_type": "stream",
     "text": [
      "BM25 & BERT: 0.08\n",
      "BM25 & USE: 0.1\n",
      "BERT & USE: 0.32\n"
     ]
    }
   ],
   "source": [
    "print('BM25 & BERT:', len(pd.merge(elsearch, bert, how='inner', on=['article', 'candidate'])) / 50)\n",
    "print('BM25 & USE:', len(pd.merge(elsearch, use, how='inner', on=['article', 'candidate'])) / 50)\n",
    "print('BERT & USE:', len(pd.merge(bert, use, how='inner', on=['article', 'candidate'])) / 50)"
   ]
  },
  {
   "cell_type": "markdown",
   "metadata": {},
   "source": [
    "# Results"
   ]
  },
  {
   "cell_type": "code",
   "execution_count": 10,
   "metadata": {},
   "outputs": [],
   "source": [
    "def search_definition(idiom):\n",
    "    return idioms[idioms['idiom'] == idiom].reset_index()['definition'][0]    "
   ]
  },
  {
   "cell_type": "markdown",
   "metadata": {},
   "source": [
    "Sentence-BERT показывает лучший результат на STSBenchmark (так как его вообще и натренировали на это) и выдает кандидатов \"ближе\" чем Universal Sentence Encoder. Но если посмотреть результаты с идиомами, то по смыслу лучше справляется USE, так как он лучше работает с параграфами. "
   ]
  },
  {
   "cell_type": "markdown",
   "metadata": {},
   "source": [
    "Например, рассмотрим статью с заголовком `\"FBI releases nearly 200 pages of Clinton email probe documents\" (из заголовка примерно понятно о чем она)`. \n",
    "\n",
    "BERT выдает идиому `\"and be done with it\"`: '(idiomatic) Used to terminate discussion or delay with a call to action' \n",
    "\n",
    "В то время как USE выдает `\"genie is out of the bottle\"`: '(idiomatic) Information has been released that will have ongoing consequences. (idiomatic) Something has been brought into reality that cannot be eliminated or undone.'"
   ]
  },
  {
   "cell_type": "markdown",
   "metadata": {},
   "source": [
    "Или статью `\"Murder plot exposed after man sent ‘kill my wife’ texts to wrong contact\"`.\n",
    "\n",
    "BERT - `\"keep up with the Joneses\"`: '(idiomatic) To act or make purchases for status or image rather than out of need, especially for the purpose of competing with friends, neighbors, or society.'\n",
    "\n",
    "USE - `\"have blood on one's hands\"`: '(idiomatic) To be responsible for a violent act.'\n",
    "\n",
    "\n",
    "В остальных вариантах либо и BERT и USE выдают примерно одинково релевантые идиомы, либо оба ошибаются. "
   ]
  },
  {
   "cell_type": "markdown",
   "metadata": {},
   "source": [
    "### BERT for lead"
   ]
  },
  {
   "cell_type": "code",
   "execution_count": 14,
   "metadata": {},
   "outputs": [
    {
     "name": "stdout",
     "output_type": "stream",
     "text": [
      "Columns: ['article', 'content', 'candidate', 'definition', 'distance', 'type']\n"
     ]
    },
    {
     "data": {
      "text/html": [
       "<div>\n",
       "<style scoped>\n",
       "    .dataframe tbody tr th:only-of-type {\n",
       "        vertical-align: middle;\n",
       "    }\n",
       "\n",
       "    .dataframe tbody tr th {\n",
       "        vertical-align: top;\n",
       "    }\n",
       "\n",
       "    .dataframe thead th {\n",
       "        text-align: right;\n",
       "    }\n",
       "</style>\n",
       "<table border=\"1\" class=\"dataframe\">\n",
       "  <thead>\n",
       "    <tr style=\"text-align: right;\">\n",
       "      <th></th>\n",
       "      <th>article</th>\n",
       "      <th>candidate</th>\n",
       "      <th>distance</th>\n",
       "    </tr>\n",
       "  </thead>\n",
       "  <tbody>\n",
       "    <tr>\n",
       "      <th>0</th>\n",
       "      <td>Someone tried to sell a baby on eBay for $5K</td>\n",
       "      <td>keep up with the Joneses</td>\n",
       "      <td>0.7882</td>\n",
       "    </tr>\n",
       "    <tr>\n",
       "      <th>5</th>\n",
       "      <td>Florist busted for stealing flowers off graves</td>\n",
       "      <td>keep up with the Joneses</td>\n",
       "      <td>0.7689</td>\n",
       "    </tr>\n",
       "    <tr>\n",
       "      <th>10</th>\n",
       "      <td>Why Nintendo’s new console tastes awful</td>\n",
       "      <td>take a dim view of</td>\n",
       "      <td>0.6406</td>\n",
       "    </tr>\n",
       "    <tr>\n",
       "      <th>15</th>\n",
       "      <td>Murder plot exposed after man sent ‘kill my wi...</td>\n",
       "      <td>keep up with the Joneses</td>\n",
       "      <td>0.6565</td>\n",
       "    </tr>\n",
       "    <tr>\n",
       "      <th>20</th>\n",
       "      <td>Man who claims to be 146 years old wants to die</td>\n",
       "      <td>have one's cake and eat it too</td>\n",
       "      <td>0.7135</td>\n",
       "    </tr>\n",
       "    <tr>\n",
       "      <th>25</th>\n",
       "      <td>Trump: I Have More Foreign Policy Experience T...</td>\n",
       "      <td>best thing since sliced bread</td>\n",
       "      <td>0.7563</td>\n",
       "    </tr>\n",
       "    <tr>\n",
       "      <th>30</th>\n",
       "      <td>Trump releases bromance letter from Putin</td>\n",
       "      <td>find it in one's heart</td>\n",
       "      <td>0.6958</td>\n",
       "    </tr>\n",
       "    <tr>\n",
       "      <th>35</th>\n",
       "      <td>FBI releases nearly 200 pages of Clinton email...</td>\n",
       "      <td>come out of the closet</td>\n",
       "      <td>0.7156</td>\n",
       "    </tr>\n",
       "    <tr>\n",
       "      <th>40</th>\n",
       "      <td>Presidential debate expected to be the most-wa...</td>\n",
       "      <td>come in from the cold</td>\n",
       "      <td>0.8211</td>\n",
       "    </tr>\n",
       "    <tr>\n",
       "      <th>45</th>\n",
       "      <td>The Ancient Military Barracks Hidden Under Rom...</td>\n",
       "      <td>strike while the iron is hot</td>\n",
       "      <td>0.5907</td>\n",
       "    </tr>\n",
       "  </tbody>\n",
       "</table>\n",
       "</div>"
      ],
      "text/plain": [
       "                                              article  \\\n",
       "0        Someone tried to sell a baby on eBay for $5K   \n",
       "5      Florist busted for stealing flowers off graves   \n",
       "10            Why Nintendo’s new console tastes awful   \n",
       "15  Murder plot exposed after man sent ‘kill my wi...   \n",
       "20    Man who claims to be 146 years old wants to die   \n",
       "25  Trump: I Have More Foreign Policy Experience T...   \n",
       "30          Trump releases bromance letter from Putin   \n",
       "35  FBI releases nearly 200 pages of Clinton email...   \n",
       "40  Presidential debate expected to be the most-wa...   \n",
       "45  The Ancient Military Barracks Hidden Under Rom...   \n",
       "\n",
       "                         candidate  distance  \n",
       "0         keep up with the Joneses    0.7882  \n",
       "5         keep up with the Joneses    0.7689  \n",
       "10              take a dim view of    0.6406  \n",
       "15        keep up with the Joneses    0.6565  \n",
       "20  have one's cake and eat it too    0.7135  \n",
       "25   best thing since sliced bread    0.7563  \n",
       "30          find it in one's heart    0.6958  \n",
       "35          come out of the closet    0.7156  \n",
       "40           come in from the cold    0.8211  \n",
       "45    strike while the iron is hot    0.5907  "
      ]
     },
     "execution_count": 14,
     "metadata": {},
     "output_type": "execute_result"
    }
   ],
   "source": [
    "bert_lead = pd.read_csv('data/bert_idioms_lead.csv')\n",
    "print('Columns:', list(bert_lead.columns))\n",
    "bert_lead.drop_duplicates(subset=['article'])[['article', 'candidate', 'distance']]"
   ]
  },
  {
   "cell_type": "markdown",
   "metadata": {},
   "source": [
    "### USE for lead"
   ]
  },
  {
   "cell_type": "code",
   "execution_count": 13,
   "metadata": {},
   "outputs": [
    {
     "name": "stdout",
     "output_type": "stream",
     "text": [
      "Columns: ['article', 'content', 'candidate', 'definition', 'distance', 'type']\n"
     ]
    },
    {
     "data": {
      "text/html": [
       "<div>\n",
       "<style scoped>\n",
       "    .dataframe tbody tr th:only-of-type {\n",
       "        vertical-align: middle;\n",
       "    }\n",
       "\n",
       "    .dataframe tbody tr th {\n",
       "        vertical-align: top;\n",
       "    }\n",
       "\n",
       "    .dataframe thead th {\n",
       "        text-align: right;\n",
       "    }\n",
       "</style>\n",
       "<table border=\"1\" class=\"dataframe\">\n",
       "  <thead>\n",
       "    <tr style=\"text-align: right;\">\n",
       "      <th></th>\n",
       "      <th>article</th>\n",
       "      <th>candidate</th>\n",
       "      <th>distance</th>\n",
       "    </tr>\n",
       "  </thead>\n",
       "  <tbody>\n",
       "    <tr>\n",
       "      <th>0</th>\n",
       "      <td>Someone tried to sell a baby on eBay for $5K</td>\n",
       "      <td>take the law into one's own hands</td>\n",
       "      <td>0.8829</td>\n",
       "    </tr>\n",
       "    <tr>\n",
       "      <th>5</th>\n",
       "      <td>Florist busted for stealing flowers off graves</td>\n",
       "      <td>take the law into one's own hands</td>\n",
       "      <td>0.8247</td>\n",
       "    </tr>\n",
       "    <tr>\n",
       "      <th>10</th>\n",
       "      <td>Why Nintendo’s new console tastes awful</td>\n",
       "      <td>strike while the iron is hot</td>\n",
       "      <td>0.8922</td>\n",
       "    </tr>\n",
       "    <tr>\n",
       "      <th>15</th>\n",
       "      <td>Murder plot exposed after man sent ‘kill my wi...</td>\n",
       "      <td>have blood on one's hands</td>\n",
       "      <td>0.8775</td>\n",
       "    </tr>\n",
       "    <tr>\n",
       "      <th>20</th>\n",
       "      <td>Man who claims to be 146 years old wants to die</td>\n",
       "      <td>put on one's dancing shoes</td>\n",
       "      <td>0.8958</td>\n",
       "    </tr>\n",
       "    <tr>\n",
       "      <th>25</th>\n",
       "      <td>Trump: I Have More Foreign Policy Experience T...</td>\n",
       "      <td>get one's foot in the door</td>\n",
       "      <td>0.8640</td>\n",
       "    </tr>\n",
       "    <tr>\n",
       "      <th>30</th>\n",
       "      <td>Trump releases bromance letter from Putin</td>\n",
       "      <td>get on the end of</td>\n",
       "      <td>0.8300</td>\n",
       "    </tr>\n",
       "    <tr>\n",
       "      <th>35</th>\n",
       "      <td>FBI releases nearly 200 pages of Clinton email...</td>\n",
       "      <td>genie is out of the bottle</td>\n",
       "      <td>0.8246</td>\n",
       "    </tr>\n",
       "    <tr>\n",
       "      <th>40</th>\n",
       "      <td>Presidential debate expected to be the most-wa...</td>\n",
       "      <td>it takes two to tango</td>\n",
       "      <td>0.8730</td>\n",
       "    </tr>\n",
       "    <tr>\n",
       "      <th>45</th>\n",
       "      <td>The Ancient Military Barracks Hidden Under Rom...</td>\n",
       "      <td>come in from the cold</td>\n",
       "      <td>0.9071</td>\n",
       "    </tr>\n",
       "  </tbody>\n",
       "</table>\n",
       "</div>"
      ],
      "text/plain": [
       "                                              article  \\\n",
       "0        Someone tried to sell a baby on eBay for $5K   \n",
       "5      Florist busted for stealing flowers off graves   \n",
       "10            Why Nintendo’s new console tastes awful   \n",
       "15  Murder plot exposed after man sent ‘kill my wi...   \n",
       "20    Man who claims to be 146 years old wants to die   \n",
       "25  Trump: I Have More Foreign Policy Experience T...   \n",
       "30          Trump releases bromance letter from Putin   \n",
       "35  FBI releases nearly 200 pages of Clinton email...   \n",
       "40  Presidential debate expected to be the most-wa...   \n",
       "45  The Ancient Military Barracks Hidden Under Rom...   \n",
       "\n",
       "                            candidate  distance  \n",
       "0   take the law into one's own hands    0.8829  \n",
       "5   take the law into one's own hands    0.8247  \n",
       "10       strike while the iron is hot    0.8922  \n",
       "15          have blood on one's hands    0.8775  \n",
       "20         put on one's dancing shoes    0.8958  \n",
       "25         get one's foot in the door    0.8640  \n",
       "30                  get on the end of    0.8300  \n",
       "35         genie is out of the bottle    0.8246  \n",
       "40              it takes two to tango    0.8730  \n",
       "45              come in from the cold    0.9071  "
      ]
     },
     "execution_count": 13,
     "metadata": {},
     "output_type": "execute_result"
    }
   ],
   "source": [
    "use_lead = pd.read_csv('data/universal_idioms_lead.csv')\n",
    "print('Columns:', list(use_lead.columns))\n",
    "use_lead.drop_duplicates(subset=['article'])[['article', 'candidate', 'distance']]"
   ]
  },
  {
   "cell_type": "code",
   "execution_count": 20,
   "metadata": {},
   "outputs": [
    {
     "name": "stdout",
     "output_type": "stream",
     "text": [
      "BERT & BERT_lead: 0.68\n",
      "USE & USE_lead: 0.54\n",
      "BERT_lead & USE_lead: 0.2\n"
     ]
    }
   ],
   "source": [
    "print('BERT & BERT_lead:', len(pd.merge(bert_lead, bert, how='inner', on=['article', 'candidate'])) / 50)\n",
    "print('USE & USE_lead:', len(pd.merge(use_lead, use, how='inner', on=['article', 'candidate'])) / 50)\n",
    "print('BERT_lead & USE_lead:', len(pd.merge(use_lead, bert_lead, how='inner', on=['article', 'candidate'])) / 50)"
   ]
  },
  {
   "cell_type": "markdown",
   "metadata": {},
   "source": [
    "Можно заметить, что оба метода стали чаще выдавать на разные статьи одинаковые идиомы (видимо из-за небольшого контекста). При этом в некоторых местах все таки USE работает лучше, например для `\"FBI releases nearly 200 pages of Clinton email probe documents\"` BERT выдает `\"come out of the closet\"`: \"(intransitive, idiomatic) To tell others about one's homosexuality, bisexuality, transness, or any minority or disapproved-of belief, preference, etc., where previously this had been kept secret.\" делая акцент на \"секрете\", хотя по основному смыслу идиома совершенно не подходит. "
   ]
  },
  {
   "cell_type": "code",
   "execution_count": null,
   "metadata": {},
   "outputs": [],
   "source": []
  }
 ],
 "metadata": {
  "kernelspec": {
   "display_name": "Python 3",
   "language": "python",
   "name": "python3"
  },
  "language_info": {
   "codemirror_mode": {
    "name": "ipython",
    "version": 3
   },
   "file_extension": ".py",
   "mimetype": "text/x-python",
   "name": "python",
   "nbconvert_exporter": "python",
   "pygments_lexer": "ipython3",
   "version": "3.7.6"
  }
 },
 "nbformat": 4,
 "nbformat_minor": 4
}
